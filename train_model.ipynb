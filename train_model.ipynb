{
 "cells": [
  {
   "cell_type": "code",
   "execution_count": 30,
   "metadata": {},
   "outputs": [],
   "source": [
    "import multiprocessing as mp\n",
    "import os\n",
    "import shutil\n",
    "import time\n",
    "\n",
    "import numpy as np\n",
    "import pandas as pd\n",
    "import tensorflow_text\n",
    "\n",
    "from matplotlib import pyplot as plt\n",
    "from sklearn.metrics import ConfusionMatrixDisplay\n",
    "from sklearn.model_selection import StratifiedKFold, train_test_split\n",
    "from sklearn.preprocessing import LabelBinarizer\n",
    "from tqdm import tqdm"
   ]
  },
  {
   "cell_type": "code",
   "execution_count": 31,
   "metadata": {},
   "outputs": [],
   "source": [
    "# supress tensorflow warnings and info\n",
    "os.environ['TF_CPP_MIN_LOG_LEVEL'] = '2'"
   ]
  },
  {
   "cell_type": "code",
   "execution_count": 32,
   "metadata": {},
   "outputs": [],
   "source": [
    "import tensorflow as tf\n",
    "\n",
    "from tensorflow.python.util import deprecation\n",
    "deprecation._PRINT_DEPRECATION_WARNINGS = False\n",
    "\n",
    "import tensorflow_hub as hub\n",
    "\n",
    "physical_devices = tf.config.list_physical_devices('GPU')\n",
    "tf.config.experimental.set_memory_growth(physical_devices[0], True)"
   ]
  },
  {
   "cell_type": "code",
   "execution_count": 4,
   "metadata": {},
   "outputs": [],
   "source": [
    "# enables tqdm for pandas\n",
    "tqdm.pandas()"
   ]
  },
  {
   "cell_type": "code",
   "execution_count": 5,
   "metadata": {},
   "outputs": [
    {
     "data": {
      "text/html": [
       "<div>\n",
       "<style scoped>\n",
       "    .dataframe tbody tr th:only-of-type {\n",
       "        vertical-align: middle;\n",
       "    }\n",
       "\n",
       "    .dataframe tbody tr th {\n",
       "        vertical-align: top;\n",
       "    }\n",
       "\n",
       "    .dataframe thead th {\n",
       "        text-align: right;\n",
       "    }\n",
       "</style>\n",
       "<table border=\"1\" class=\"dataframe\">\n",
       "  <thead>\n",
       "    <tr style=\"text-align: right;\">\n",
       "      <th></th>\n",
       "      <th>area</th>\n",
       "      <th>title+desc</th>\n",
       "    </tr>\n",
       "  </thead>\n",
       "  <tbody>\n",
       "    <tr>\n",
       "      <th>0</th>\n",
       "      <td>energy efficiency (including public lighting)</td>\n",
       "      <td>intensity control of led light points for high...</td>\n",
       "    </tr>\n",
       "    <tr>\n",
       "      <th>1</th>\n",
       "      <td>waste management (including waste recycling)</td>\n",
       "      <td>installation of tire shredding plant. as a per...</td>\n",
       "    </tr>\n",
       "    <tr>\n",
       "      <th>2</th>\n",
       "      <td>transport</td>\n",
       "      <td>environmental monitoring and control of new an...</td>\n",
       "    </tr>\n",
       "    <tr>\n",
       "      <th>3</th>\n",
       "      <td>waste management (including waste recycling)</td>\n",
       "      <td>strengthening inclusive recycling program. thi...</td>\n",
       "    </tr>\n",
       "    <tr>\n",
       "      <th>4</th>\n",
       "      <td>waste management (including waste recycling)</td>\n",
       "      <td>waste to energy project for blantyre city. reh...</td>\n",
       "    </tr>\n",
       "    <tr>\n",
       "      <th>...</th>\n",
       "      <td>...</td>\n",
       "      <td>...</td>\n",
       "    </tr>\n",
       "    <tr>\n",
       "      <th>1300</th>\n",
       "      <td>energy efficiency (including public lighting)</td>\n",
       "      <td>decarbonisation of local authority maintained ...</td>\n",
       "    </tr>\n",
       "    <tr>\n",
       "      <th>1301</th>\n",
       "      <td>buildings</td>\n",
       "      <td>charlotte &amp; william bloomberg public library. ...</td>\n",
       "    </tr>\n",
       "    <tr>\n",
       "      <th>1302</th>\n",
       "      <td>energy efficiency (including public lighting)</td>\n",
       "      <td>bloomington green home improvement program. th...</td>\n",
       "    </tr>\n",
       "    <tr>\n",
       "      <th>1303</th>\n",
       "      <td>water management</td>\n",
       "      <td>greater amman municipality (gam) - saqef al se...</td>\n",
       "    </tr>\n",
       "    <tr>\n",
       "      <th>1304</th>\n",
       "      <td>water management</td>\n",
       "      <td>local water strategy. local tool for managing ...</td>\n",
       "    </tr>\n",
       "  </tbody>\n",
       "</table>\n",
       "<p>1305 rows × 2 columns</p>\n",
       "</div>"
      ],
      "text/plain": [
       "                                               area  \\\n",
       "0     energy efficiency (including public lighting)   \n",
       "1      waste management (including waste recycling)   \n",
       "2                                         transport   \n",
       "3      waste management (including waste recycling)   \n",
       "4      waste management (including waste recycling)   \n",
       "...                                             ...   \n",
       "1300  energy efficiency (including public lighting)   \n",
       "1301                                      buildings   \n",
       "1302  energy efficiency (including public lighting)   \n",
       "1303                               water management   \n",
       "1304                               water management   \n",
       "\n",
       "                                             title+desc  \n",
       "0     intensity control of led light points for high...  \n",
       "1     installation of tire shredding plant. as a per...  \n",
       "2     environmental monitoring and control of new an...  \n",
       "3     strengthening inclusive recycling program. thi...  \n",
       "4     waste to energy project for blantyre city. reh...  \n",
       "...                                                 ...  \n",
       "1300  decarbonisation of local authority maintained ...  \n",
       "1301  charlotte & william bloomberg public library. ...  \n",
       "1302  bloomington green home improvement program. th...  \n",
       "1303  greater amman municipality (gam) - saqef al se...  \n",
       "1304  local water strategy. local tool for managing ...  \n",
       "\n",
       "[1305 rows x 2 columns]"
      ]
     },
     "execution_count": 5,
     "metadata": {},
     "output_type": "execute_result"
    }
   ],
   "source": [
    "# load cdp dataset csv as dataframe\n",
    "df_cdp = pd.read_csv('csvs/cdp_final.csv', sep=',')\n",
    "df_cdp"
   ]
  },
  {
   "cell_type": "code",
   "execution_count": 6,
   "metadata": {},
   "outputs": [
    {
     "data": {
      "text/html": [
       "<div>\n",
       "<style scoped>\n",
       "    .dataframe tbody tr th:only-of-type {\n",
       "        vertical-align: middle;\n",
       "    }\n",
       "\n",
       "    .dataframe tbody tr th {\n",
       "        vertical-align: top;\n",
       "    }\n",
       "\n",
       "    .dataframe thead th {\n",
       "        text-align: right;\n",
       "    }\n",
       "</style>\n",
       "<table border=\"1\" class=\"dataframe\">\n",
       "  <thead>\n",
       "    <tr style=\"text-align: right;\">\n",
       "      <th></th>\n",
       "      <th>area</th>\n",
       "      <th>title+desc</th>\n",
       "    </tr>\n",
       "  </thead>\n",
       "  <tbody>\n",
       "    <tr>\n",
       "      <th>0</th>\n",
       "      <td>water management</td>\n",
       "      <td>arroyo medrano restoration in parque saavedra....</td>\n",
       "    </tr>\n",
       "    <tr>\n",
       "      <th>1</th>\n",
       "      <td>water management</td>\n",
       "      <td>cildañez stream reservoir activation. the poss...</td>\n",
       "    </tr>\n",
       "    <tr>\n",
       "      <th>2</th>\n",
       "      <td>water management</td>\n",
       "      <td>water interpretation center school visits to a...</td>\n",
       "    </tr>\n",
       "    <tr>\n",
       "      <th>3</th>\n",
       "      <td>water management</td>\n",
       "      <td>hydraulic adaptation plan to climate change. p...</td>\n",
       "    </tr>\n",
       "    <tr>\n",
       "      <th>4</th>\n",
       "      <td>transport</td>\n",
       "      <td>expansion of the bike path network. the work c...</td>\n",
       "    </tr>\n",
       "    <tr>\n",
       "      <th>...</th>\n",
       "      <td>...</td>\n",
       "      <td>...</td>\n",
       "    </tr>\n",
       "    <tr>\n",
       "      <th>485</th>\n",
       "      <td>outdoor lighting</td>\n",
       "      <td>led lighting. the purpose of changing the ligh...</td>\n",
       "    </tr>\n",
       "    <tr>\n",
       "      <th>486</th>\n",
       "      <td>waste management</td>\n",
       "      <td>implementation of the sanitary landfill in the...</td>\n",
       "    </tr>\n",
       "    <tr>\n",
       "      <th>487</th>\n",
       "      <td>waste recycling</td>\n",
       "      <td>implementation of selective collection in the ...</td>\n",
       "    </tr>\n",
       "    <tr>\n",
       "      <th>488</th>\n",
       "      <td>water management</td>\n",
       "      <td>protection and restoration of springs in the s...</td>\n",
       "    </tr>\n",
       "    <tr>\n",
       "      <th>489</th>\n",
       "      <td>outdoor lighting</td>\n",
       "      <td>institutional cooperation agreement between th...</td>\n",
       "    </tr>\n",
       "  </tbody>\n",
       "</table>\n",
       "<p>490 rows × 2 columns</p>\n",
       "</div>"
      ],
      "text/plain": [
       "                 area                                         title+desc\n",
       "0    water management  arroyo medrano restoration in parque saavedra....\n",
       "1    water management  cildañez stream reservoir activation. the poss...\n",
       "2    water management  water interpretation center school visits to a...\n",
       "3    water management  hydraulic adaptation plan to climate change. p...\n",
       "4           transport  expansion of the bike path network. the work c...\n",
       "..                ...                                                ...\n",
       "485  outdoor lighting  led lighting. the purpose of changing the ligh...\n",
       "486  waste management  implementation of the sanitary landfill in the...\n",
       "487   waste recycling  implementation of selective collection in the ...\n",
       "488  water management  protection and restoration of springs in the s...\n",
       "489  outdoor lighting  institutional cooperation agreement between th...\n",
       "\n",
       "[490 rows x 2 columns]"
      ]
     },
     "execution_count": 6,
     "metadata": {},
     "output_type": "execute_result"
    }
   ],
   "source": [
    "# load es dataset csv as dataframe\n",
    "df_es = pd.read_csv('csvs/es_final.csv', sep=',')\n",
    "df_es"
   ]
  },
  {
   "cell_type": "code",
   "execution_count": 7,
   "metadata": {},
   "outputs": [
    {
     "data": {
      "text/html": [
       "<div>\n",
       "<style scoped>\n",
       "    .dataframe tbody tr th:only-of-type {\n",
       "        vertical-align: middle;\n",
       "    }\n",
       "\n",
       "    .dataframe tbody tr th {\n",
       "        vertical-align: top;\n",
       "    }\n",
       "\n",
       "    .dataframe thead th {\n",
       "        text-align: right;\n",
       "    }\n",
       "</style>\n",
       "<table border=\"1\" class=\"dataframe\">\n",
       "  <thead>\n",
       "    <tr style=\"text-align: right;\">\n",
       "      <th></th>\n",
       "      <th>area</th>\n",
       "      <th>title+desc</th>\n",
       "    </tr>\n",
       "  </thead>\n",
       "  <tbody>\n",
       "    <tr>\n",
       "      <th>0</th>\n",
       "      <td>energy efficiency (including public lighting)</td>\n",
       "      <td>intensity control of led light points for high...</td>\n",
       "    </tr>\n",
       "    <tr>\n",
       "      <th>1</th>\n",
       "      <td>waste management (including waste recycling)</td>\n",
       "      <td>installation of tire shredding plant. as a per...</td>\n",
       "    </tr>\n",
       "    <tr>\n",
       "      <th>2</th>\n",
       "      <td>transport</td>\n",
       "      <td>environmental monitoring and control of new an...</td>\n",
       "    </tr>\n",
       "    <tr>\n",
       "      <th>3</th>\n",
       "      <td>waste management (including waste recycling)</td>\n",
       "      <td>strengthening inclusive recycling program. thi...</td>\n",
       "    </tr>\n",
       "    <tr>\n",
       "      <th>4</th>\n",
       "      <td>waste management (including waste recycling)</td>\n",
       "      <td>waste to energy project for blantyre city. reh...</td>\n",
       "    </tr>\n",
       "    <tr>\n",
       "      <th>...</th>\n",
       "      <td>...</td>\n",
       "      <td>...</td>\n",
       "    </tr>\n",
       "    <tr>\n",
       "      <th>485</th>\n",
       "      <td>outdoor lighting</td>\n",
       "      <td>led lighting. the purpose of changing the ligh...</td>\n",
       "    </tr>\n",
       "    <tr>\n",
       "      <th>486</th>\n",
       "      <td>waste management</td>\n",
       "      <td>implementation of the sanitary landfill in the...</td>\n",
       "    </tr>\n",
       "    <tr>\n",
       "      <th>487</th>\n",
       "      <td>waste recycling</td>\n",
       "      <td>implementation of selective collection in the ...</td>\n",
       "    </tr>\n",
       "    <tr>\n",
       "      <th>488</th>\n",
       "      <td>water management</td>\n",
       "      <td>protection and restoration of springs in the s...</td>\n",
       "    </tr>\n",
       "    <tr>\n",
       "      <th>489</th>\n",
       "      <td>outdoor lighting</td>\n",
       "      <td>institutional cooperation agreement between th...</td>\n",
       "    </tr>\n",
       "  </tbody>\n",
       "</table>\n",
       "<p>1795 rows × 2 columns</p>\n",
       "</div>"
      ],
      "text/plain": [
       "                                              area  \\\n",
       "0    energy efficiency (including public lighting)   \n",
       "1     waste management (including waste recycling)   \n",
       "2                                        transport   \n",
       "3     waste management (including waste recycling)   \n",
       "4     waste management (including waste recycling)   \n",
       "..                                             ...   \n",
       "485                               outdoor lighting   \n",
       "486                               waste management   \n",
       "487                                waste recycling   \n",
       "488                               water management   \n",
       "489                               outdoor lighting   \n",
       "\n",
       "                                            title+desc  \n",
       "0    intensity control of led light points for high...  \n",
       "1    installation of tire shredding plant. as a per...  \n",
       "2    environmental monitoring and control of new an...  \n",
       "3    strengthening inclusive recycling program. thi...  \n",
       "4    waste to energy project for blantyre city. reh...  \n",
       "..                                                 ...  \n",
       "485  led lighting. the purpose of changing the ligh...  \n",
       "486  implementation of the sanitary landfill in the...  \n",
       "487  implementation of selective collection in the ...  \n",
       "488  protection and restoration of springs in the s...  \n",
       "489  institutional cooperation agreement between th...  \n",
       "\n",
       "[1795 rows x 2 columns]"
      ]
     },
     "execution_count": 7,
     "metadata": {},
     "output_type": "execute_result"
    }
   ],
   "source": [
    "# join two datasets\n",
    "df_joined = pd.concat([df_cdp, df_es], axis=0) \n",
    "df_joined"
   ]
  },
  {
   "cell_type": "code",
   "execution_count": 8,
   "metadata": {},
   "outputs": [
    {
     "name": "stdout",
     "output_type": "stream",
     "text": [
      "| area                                          |   sample_count |\n",
      "|:----------------------------------------------|---------------:|\n",
      "| transport                                     |            347 |\n",
      "| water management                              |            269 |\n",
      "| renewable energy                              |            224 |\n",
      "| waste management (including waste recycling)  |            199 |\n",
      "| energy efficiency (including public lighting) |            178 |\n",
      "| buildings                                     |            177 |\n",
      "| waste management                              |            116 |\n",
      "| public and green spaces                       |             65 |\n",
      "| waste recycling                               |             63 |\n",
      "| energy efficiency / retrofit                  |             50 |\n",
      "| nature-based solutions                        |             50 |\n",
      "| outdoor lighting                              |             25 |\n",
      "| sustainable food consumption/production       |             19 |\n",
      "| land-use                                      |             13 |\n"
     ]
    }
   ],
   "source": [
    "# show sample count for each area (some need to be joined together)\n",
    "print(pd.DataFrame(df_joined.value_counts(subset='area')).rename(columns={0: 'sample_count'}).to_markdown())"
   ]
  },
  {
   "cell_type": "code",
   "execution_count": 9,
   "metadata": {},
   "outputs": [
    {
     "data": {
      "text/html": [
       "<div>\n",
       "<style scoped>\n",
       "    .dataframe tbody tr th:only-of-type {\n",
       "        vertical-align: middle;\n",
       "    }\n",
       "\n",
       "    .dataframe tbody tr th {\n",
       "        vertical-align: top;\n",
       "    }\n",
       "\n",
       "    .dataframe thead th {\n",
       "        text-align: right;\n",
       "    }\n",
       "</style>\n",
       "<table border=\"1\" class=\"dataframe\">\n",
       "  <thead>\n",
       "    <tr style=\"text-align: right;\">\n",
       "      <th></th>\n",
       "      <th>area</th>\n",
       "      <th>title+desc</th>\n",
       "    </tr>\n",
       "  </thead>\n",
       "  <tbody>\n",
       "    <tr>\n",
       "      <th>0</th>\n",
       "      <td>energy effiency</td>\n",
       "      <td>intensity control of led light points for high...</td>\n",
       "    </tr>\n",
       "    <tr>\n",
       "      <th>1</th>\n",
       "      <td>waste management</td>\n",
       "      <td>installation of tire shredding plant. as a per...</td>\n",
       "    </tr>\n",
       "    <tr>\n",
       "      <th>2</th>\n",
       "      <td>transport</td>\n",
       "      <td>environmental monitoring and control of new an...</td>\n",
       "    </tr>\n",
       "    <tr>\n",
       "      <th>3</th>\n",
       "      <td>waste management</td>\n",
       "      <td>strengthening inclusive recycling program. thi...</td>\n",
       "    </tr>\n",
       "    <tr>\n",
       "      <th>4</th>\n",
       "      <td>waste management</td>\n",
       "      <td>waste to energy project for blantyre city. reh...</td>\n",
       "    </tr>\n",
       "    <tr>\n",
       "      <th>...</th>\n",
       "      <td>...</td>\n",
       "      <td>...</td>\n",
       "    </tr>\n",
       "    <tr>\n",
       "      <th>485</th>\n",
       "      <td>outdoor lighting</td>\n",
       "      <td>led lighting. the purpose of changing the ligh...</td>\n",
       "    </tr>\n",
       "    <tr>\n",
       "      <th>486</th>\n",
       "      <td>waste management</td>\n",
       "      <td>implementation of the sanitary landfill in the...</td>\n",
       "    </tr>\n",
       "    <tr>\n",
       "      <th>487</th>\n",
       "      <td>waste recycling</td>\n",
       "      <td>implementation of selective collection in the ...</td>\n",
       "    </tr>\n",
       "    <tr>\n",
       "      <th>488</th>\n",
       "      <td>water management</td>\n",
       "      <td>protection and restoration of springs in the s...</td>\n",
       "    </tr>\n",
       "    <tr>\n",
       "      <th>489</th>\n",
       "      <td>outdoor lighting</td>\n",
       "      <td>institutional cooperation agreement between th...</td>\n",
       "    </tr>\n",
       "  </tbody>\n",
       "</table>\n",
       "<p>1795 rows × 2 columns</p>\n",
       "</div>"
      ],
      "text/plain": [
       "                 area                                         title+desc\n",
       "0     energy effiency  intensity control of led light points for high...\n",
       "1    waste management  installation of tire shredding plant. as a per...\n",
       "2           transport  environmental monitoring and control of new an...\n",
       "3    waste management  strengthening inclusive recycling program. thi...\n",
       "4    waste management  waste to energy project for blantyre city. reh...\n",
       "..                ...                                                ...\n",
       "485  outdoor lighting  led lighting. the purpose of changing the ligh...\n",
       "486  waste management  implementation of the sanitary landfill in the...\n",
       "487   waste recycling  implementation of selective collection in the ...\n",
       "488  water management  protection and restoration of springs in the s...\n",
       "489  outdoor lighting  institutional cooperation agreement between th...\n",
       "\n",
       "[1795 rows x 2 columns]"
      ]
     },
     "execution_count": 9,
     "metadata": {},
     "output_type": "execute_result"
    }
   ],
   "source": [
    "# simplify area names\n",
    "df_corrected = df_joined.copy()\n",
    "\n",
    "area_energy = (df_corrected['area'] == 'energy efficiency / retrofit') | (df_corrected['area'] == 'energy efficiency (including public lighting)')\n",
    "df_corrected.loc[area_energy, 'area'] = 'energy effiency'\n",
    "\n",
    "area_waste = df_corrected['area'] == 'waste management (including waste recycling)'\n",
    "df_corrected.loc[area_waste, 'area'] = 'waste management'\n",
    "\n",
    "df_corrected"
   ]
  },
  {
   "cell_type": "code",
   "execution_count": 10,
   "metadata": {},
   "outputs": [
    {
     "name": "stdout",
     "output_type": "stream",
     "text": [
      "| area                                    |   sample_count |\n",
      "|:----------------------------------------|---------------:|\n",
      "| transport                               |            347 |\n",
      "| waste management                        |            315 |\n",
      "| water management                        |            269 |\n",
      "| energy effiency                         |            228 |\n",
      "| renewable energy                        |            224 |\n",
      "| buildings                               |            177 |\n",
      "| public and green spaces                 |             65 |\n",
      "| waste recycling                         |             63 |\n",
      "| nature-based solutions                  |             50 |\n",
      "| outdoor lighting                        |             25 |\n",
      "| sustainable food consumption/production |             19 |\n",
      "| land-use                                |             13 |\n"
     ]
    }
   ],
   "source": [
    "# show sample count again\n",
    "area_count = pd.DataFrame(df_corrected.value_counts(subset='area')).rename(columns={0: 'sample_count'})\n",
    "print(area_count.to_markdown())"
   ]
  },
  {
   "cell_type": "code",
   "execution_count": 11,
   "metadata": {},
   "outputs": [
    {
     "data": {
      "text/html": [
       "<div>\n",
       "<style scoped>\n",
       "    .dataframe tbody tr th:only-of-type {\n",
       "        vertical-align: middle;\n",
       "    }\n",
       "\n",
       "    .dataframe tbody tr th {\n",
       "        vertical-align: top;\n",
       "    }\n",
       "\n",
       "    .dataframe thead th {\n",
       "        text-align: right;\n",
       "    }\n",
       "</style>\n",
       "<table border=\"1\" class=\"dataframe\">\n",
       "  <thead>\n",
       "    <tr style=\"text-align: right;\">\n",
       "      <th></th>\n",
       "      <th>area</th>\n",
       "      <th>title+desc</th>\n",
       "    </tr>\n",
       "  </thead>\n",
       "  <tbody>\n",
       "    <tr>\n",
       "      <th>0</th>\n",
       "      <td>energy effiency</td>\n",
       "      <td>intensity control of led light points for high...</td>\n",
       "    </tr>\n",
       "    <tr>\n",
       "      <th>1</th>\n",
       "      <td>waste management</td>\n",
       "      <td>installation of tire shredding plant. as a per...</td>\n",
       "    </tr>\n",
       "    <tr>\n",
       "      <th>2</th>\n",
       "      <td>transport</td>\n",
       "      <td>environmental monitoring and control of new an...</td>\n",
       "    </tr>\n",
       "    <tr>\n",
       "      <th>3</th>\n",
       "      <td>waste management</td>\n",
       "      <td>strengthening inclusive recycling program. thi...</td>\n",
       "    </tr>\n",
       "    <tr>\n",
       "      <th>4</th>\n",
       "      <td>waste management</td>\n",
       "      <td>waste to energy project for blantyre city. reh...</td>\n",
       "    </tr>\n",
       "    <tr>\n",
       "      <th>...</th>\n",
       "      <td>...</td>\n",
       "      <td>...</td>\n",
       "    </tr>\n",
       "    <tr>\n",
       "      <th>482</th>\n",
       "      <td>water management</td>\n",
       "      <td>restoration of water basins. it is intended to...</td>\n",
       "    </tr>\n",
       "    <tr>\n",
       "      <th>483</th>\n",
       "      <td>energy effiency</td>\n",
       "      <td>sustainable tourism development program in iga...</td>\n",
       "    </tr>\n",
       "    <tr>\n",
       "      <th>484</th>\n",
       "      <td>water management</td>\n",
       "      <td>water path. the project provides for the holdi...</td>\n",
       "    </tr>\n",
       "    <tr>\n",
       "      <th>486</th>\n",
       "      <td>waste management</td>\n",
       "      <td>implementation of the sanitary landfill in the...</td>\n",
       "    </tr>\n",
       "    <tr>\n",
       "      <th>488</th>\n",
       "      <td>water management</td>\n",
       "      <td>protection and restoration of springs in the s...</td>\n",
       "    </tr>\n",
       "  </tbody>\n",
       "</table>\n",
       "<p>1560 rows × 2 columns</p>\n",
       "</div>"
      ],
      "text/plain": [
       "                 area                                         title+desc\n",
       "0     energy effiency  intensity control of led light points for high...\n",
       "1    waste management  installation of tire shredding plant. as a per...\n",
       "2           transport  environmental monitoring and control of new an...\n",
       "3    waste management  strengthening inclusive recycling program. thi...\n",
       "4    waste management  waste to energy project for blantyre city. reh...\n",
       "..                ...                                                ...\n",
       "482  water management  restoration of water basins. it is intended to...\n",
       "483   energy effiency  sustainable tourism development program in iga...\n",
       "484  water management  water path. the project provides for the holdi...\n",
       "486  waste management  implementation of the sanitary landfill in the...\n",
       "488  water management  protection and restoration of springs in the s...\n",
       "\n",
       "[1560 rows x 2 columns]"
      ]
     },
     "execution_count": 11,
     "metadata": {},
     "output_type": "execute_result"
    }
   ],
   "source": [
    "# remove categories with few samples\n",
    "min_sample_count = 100\n",
    "area_count = area_count.rename({0: 'count'}, axis='columns')\n",
    "areas_to_keep = area_count[area_count > min_sample_count].dropna().index.to_list()\n",
    "area_filter = df_corrected['area'].isin(areas_to_keep)\n",
    "df_clean = df_corrected[area_filter]\n",
    "df_clean"
   ]
  },
  {
   "cell_type": "code",
   "execution_count": 12,
   "metadata": {},
   "outputs": [
    {
     "name": "stdout",
     "output_type": "stream",
     "text": [
      "| area             |   sample_count |\n",
      "|:-----------------|---------------:|\n",
      "| transport        |            347 |\n",
      "| waste management |            315 |\n",
      "| water management |            269 |\n",
      "| energy effiency  |            228 |\n",
      "| renewable energy |            224 |\n",
      "| buildings        |            177 |\n"
     ]
    }
   ],
   "source": [
    "# show new sample count\n",
    "print(pd.DataFrame(df_clean.value_counts(subset='area')).rename(columns={0: 'sample_count'}).to_markdown())"
   ]
  },
  {
   "cell_type": "code",
   "execution_count": 13,
   "metadata": {},
   "outputs": [
    {
     "data": {
      "text/html": [
       "<div>\n",
       "<style scoped>\n",
       "    .dataframe tbody tr th:only-of-type {\n",
       "        vertical-align: middle;\n",
       "    }\n",
       "\n",
       "    .dataframe tbody tr th {\n",
       "        vertical-align: top;\n",
       "    }\n",
       "\n",
       "    .dataframe thead th {\n",
       "        text-align: right;\n",
       "    }\n",
       "</style>\n",
       "<table border=\"1\" class=\"dataframe\">\n",
       "  <thead>\n",
       "    <tr style=\"text-align: right;\">\n",
       "      <th></th>\n",
       "      <th>area</th>\n",
       "      <th>title+desc</th>\n",
       "    </tr>\n",
       "  </thead>\n",
       "  <tbody>\n",
       "    <tr>\n",
       "      <th>0</th>\n",
       "      <td>energy effiency</td>\n",
       "      <td>intensity control of led light points for high...</td>\n",
       "    </tr>\n",
       "    <tr>\n",
       "      <th>1</th>\n",
       "      <td>waste management</td>\n",
       "      <td>instalación de planta trituradora de llantas. ...</td>\n",
       "    </tr>\n",
       "    <tr>\n",
       "      <th>2</th>\n",
       "      <td>transport</td>\n",
       "      <td>seguimiento y control ambiental a tecnologías ...</td>\n",
       "    </tr>\n",
       "    <tr>\n",
       "      <th>3</th>\n",
       "      <td>waste management</td>\n",
       "      <td>fortalecimiento programa de reciclaje inclusiv...</td>\n",
       "    </tr>\n",
       "    <tr>\n",
       "      <th>4</th>\n",
       "      <td>waste management</td>\n",
       "      <td>waste to energy project for blantyre city. reh...</td>\n",
       "    </tr>\n",
       "    <tr>\n",
       "      <th>...</th>\n",
       "      <td>...</td>\n",
       "      <td>...</td>\n",
       "    </tr>\n",
       "    <tr>\n",
       "      <th>482</th>\n",
       "      <td>water management</td>\n",
       "      <td>restauracion de las cuencas de agua. se preten...</td>\n",
       "    </tr>\n",
       "    <tr>\n",
       "      <th>483</th>\n",
       "      <td>energy effiency</td>\n",
       "      <td>sustainable tourism development program in iga...</td>\n",
       "    </tr>\n",
       "    <tr>\n",
       "      <th>484</th>\n",
       "      <td>water management</td>\n",
       "      <td>caminho das águas. o projeto prevê a a realiza...</td>\n",
       "    </tr>\n",
       "    <tr>\n",
       "      <th>486</th>\n",
       "      <td>waste management</td>\n",
       "      <td>implantação do aterro sanitário em forma de co...</td>\n",
       "    </tr>\n",
       "    <tr>\n",
       "      <th>488</th>\n",
       "      <td>water management</td>\n",
       "      <td>proteção e recuperação de nascentes do ribeirã...</td>\n",
       "    </tr>\n",
       "  </tbody>\n",
       "</table>\n",
       "<p>1560 rows × 2 columns</p>\n",
       "</div>"
      ],
      "text/plain": [
       "                 area                                         title+desc\n",
       "0     energy effiency  intensity control of led light points for high...\n",
       "1    waste management  instalación de planta trituradora de llantas. ...\n",
       "2           transport  seguimiento y control ambiental a tecnologías ...\n",
       "3    waste management  fortalecimiento programa de reciclaje inclusiv...\n",
       "4    waste management  waste to energy project for blantyre city. reh...\n",
       "..                ...                                                ...\n",
       "482  water management  restauracion de las cuencas de agua. se preten...\n",
       "483   energy effiency  sustainable tourism development program in iga...\n",
       "484  water management  caminho das águas. o projeto prevê a a realiza...\n",
       "486  waste management  implantação do aterro sanitário em forma de co...\n",
       "488  water management  proteção e recuperação de nascentes do ribeirã...\n",
       "\n",
       "[1560 rows x 2 columns]"
      ]
     },
     "execution_count": 13,
     "metadata": {},
     "output_type": "execute_result"
    }
   ],
   "source": [
    "# run the same routine for the untranslated dataset\n",
    "df_cdp_multi = pd.read_csv('csvs/cdp_clean.csv', sep=',').drop(columns=['Unnamed: 0'])\n",
    "df_es_multi = pd.read_csv('csvs/es_clean.csv', sep=',').drop(columns=['Unnamed: 0'])\n",
    "df_joined_multi = pd.concat([df_cdp_multi, df_es_multi], axis=0)[['area', 'title+desc']]\n",
    "\n",
    "# area_energy = (df_joined_multi['area'] == 'energy efficiency / retrofit') | (df_joined_multi['area'] == 'energy efficiency (including public lighting)')\n",
    "df_joined_multi.loc[area_energy, 'area'] = 'energy effiency'\n",
    "\n",
    "# area_waste = df_joined_multi['area'] == 'waste management (including waste recycling)'\n",
    "df_joined_multi.loc[area_waste, 'area'] = 'waste management'\n",
    "\n",
    "# min_sample_count = 100\n",
    "# area_count = area_count.rename({0: 'count'}, axis='columns')\n",
    "# areas_to_keep = area_count[area_count > min_sample_count].dropna().index.to_list()\n",
    "area_filter = df_joined_multi['area'].isin(areas_to_keep)\n",
    "df_clean_multi = df_joined_multi[area_filter]\n",
    "df_clean_multi"
   ]
  },
  {
   "cell_type": "code",
   "execution_count": 14,
   "metadata": {},
   "outputs": [],
   "source": [
    "param_sets = [\n",
    "    # model_type, hidden_neurons, epochs\n",
    "    # ('nnlm50', 0, 24),\n",
    "    # ('nnlm50', 32, 24),\n",
    "    # ('nnlm128', 0, 16),\n",
    "    # ('nnlm128', 64, 16),\n",
    "    # ('use', 0, 8),\n",
    "    # ('use', 64, 8),\n",
    "    # ('use-multi', 0, 8),\n",
    "    ('use-multi', 64, 20)\n",
    "]"
   ]
  },
  {
   "cell_type": "code",
   "execution_count": 15,
   "metadata": {},
   "outputs": [],
   "source": [
    "# selecting the parameters\n",
    "model_type, hidden_neurons, epochs = param_sets[0]"
   ]
  },
  {
   "cell_type": "code",
   "execution_count": 16,
   "metadata": {},
   "outputs": [],
   "source": [
    "# x is input, y is output\n",
    "df_dataset = df_clean_multi if model_type == 'use-multi' else df_clean\n",
    "x = df_clean_multi['title+desc'].to_numpy()\n",
    "y = df_clean_multi['area'].to_numpy()\n",
    "\n",
    "# one hot encode the output\n",
    "label_binarizer = LabelBinarizer()\n",
    "y_e = label_binarizer.fit_transform(y)"
   ]
  },
  {
   "cell_type": "code",
   "execution_count": 17,
   "metadata": {},
   "outputs": [],
   "source": [
    "# split the dataset into train, test and val\n",
    "x_train, x_valtest, y_train, y_valtest = train_test_split(x, y_e, test_size=0.30, random_state=42)\n",
    "x_val, x_test, y_val, y_test = train_test_split(x_valtest, y_valtest, test_size=0.5, random_state=42)"
   ]
  },
  {
   "cell_type": "code",
   "execution_count": 18,
   "metadata": {},
   "outputs": [],
   "source": [
    "# function that implements the model creation, training and deletion\n",
    "def fit_keras(x_train,\n",
    "              y_train,\n",
    "              x_val,\n",
    "              y_val,\n",
    "              classes,\n",
    "              model_type,\n",
    "              hidden_neurons,\n",
    "              epochs):\n",
    "    \n",
    "    # bring pre-trained model from tf hub as a layer\n",
    "    if model_type == 'nnlm50':\n",
    "        model_link = \"https://tfhub.dev/google/nnlm-en-dim50-with-normalization/2\"\n",
    "    elif model_type == 'nnlm128':\n",
    "        model_link = \"https://tfhub.dev/google/nnlm-en-dim128-with-normalization/2\"\n",
    "    elif model_type == 'use':\n",
    "        model_link = \"https://tfhub.dev/google/universal-sentence-encoder/4\"\n",
    "    elif model_type == 'use-multi':\n",
    "        model_link = \"https://tfhub.dev/google/universal-sentence-encoder-multilingual/3\"\n",
    "    hub_layer = hub.KerasLayer(model_link, input_shape=[], dtype=tf.string, trainable=True)\n",
    "\n",
    "    # create the model with the parameters given\n",
    "    model = tf.keras.Sequential()\n",
    "    model.add(hub_layer)\n",
    "    if hidden_neurons > 0:\n",
    "        model.add(tf.keras.layers.Dropout(0.2))\n",
    "        model.add(tf.keras.layers.Dense(hidden_neurons, activation='relu'))\n",
    "    model.add(tf.keras.layers.Dropout(0.2))\n",
    "    model.add(tf.keras.layers.Dense(len(classes), activation='softmax'))\n",
    "\n",
    "    # compile the model\n",
    "    model.compile(optimizer=tf.keras.optimizers.Adam(learning_rate=1e-4),\n",
    "                  loss=tf.losses.CategoricalCrossentropy(),\n",
    "                  metrics=[tf.metrics.CategoricalAccuracy()])\n",
    "    \n",
    "    # enable tensorboard visualizations\n",
    "    tensorboard_callback = tf.keras.callbacks.TensorBoard(log_dir=\"./logs\")\n",
    "\n",
    "    # enable early stopping\n",
    "    early_stopping_callback = tf.keras.callbacks.EarlyStopping(monitor='val_loss', patience=3, restore_best_weights=True)\n",
    "\n",
    "    # finally, fit the model on the data given\n",
    "    history = model.fit(x_train,\n",
    "                        y_train,\n",
    "                        epochs=epochs,\n",
    "                        batch_size=32,\n",
    "                        validation_data=[x_val, y_val],\n",
    "                        verbose=1,\n",
    "                        callbacks=[tensorboard_callback, early_stopping_callback])\n",
    "\n",
    "    # return model\n",
    "    return model, history"
   ]
  },
  {
   "cell_type": "code",
   "execution_count": 19,
   "metadata": {},
   "outputs": [
    {
     "name": "stdout",
     "output_type": "stream",
     "text": [
      "WARNING:tensorflow:Please fix your imports. Module tensorflow.python.training.tracking.data_structures has been moved to tensorflow.python.trackable.data_structures. The old module will be deleted in version 2.11.\n"
     ]
    },
    {
     "name": "stderr",
     "output_type": "stream",
     "text": [
      "2023-03-21 01:13:19.323002: I tensorflow/core/platform/cpu_feature_guard.cc:193] This TensorFlow binary is optimized with oneAPI Deep Neural Network Library (oneDNN) to use the following CPU instructions in performance-critical operations:  AVX2 FMA\n",
      "To enable them in other operations, rebuild TensorFlow with the appropriate compiler flags.\n",
      "2023-03-21 01:13:19.323546: I tensorflow/compiler/xla/stream_executor/cuda/cuda_gpu_executor.cc:981] successful NUMA node read from SysFS had negative value (-1), but there must be at least one NUMA node, so returning NUMA node zero\n",
      "2023-03-21 01:13:19.323727: I tensorflow/compiler/xla/stream_executor/cuda/cuda_gpu_executor.cc:981] successful NUMA node read from SysFS had negative value (-1), but there must be at least one NUMA node, so returning NUMA node zero\n",
      "2023-03-21 01:13:19.323961: I tensorflow/compiler/xla/stream_executor/cuda/cuda_gpu_executor.cc:981] successful NUMA node read from SysFS had negative value (-1), but there must be at least one NUMA node, so returning NUMA node zero\n",
      "2023-03-21 01:13:19.813434: I tensorflow/compiler/xla/stream_executor/cuda/cuda_gpu_executor.cc:981] successful NUMA node read from SysFS had negative value (-1), but there must be at least one NUMA node, so returning NUMA node zero\n",
      "2023-03-21 01:13:19.813621: I tensorflow/compiler/xla/stream_executor/cuda/cuda_gpu_executor.cc:981] successful NUMA node read from SysFS had negative value (-1), but there must be at least one NUMA node, so returning NUMA node zero\n",
      "2023-03-21 01:13:19.813752: I tensorflow/compiler/xla/stream_executor/cuda/cuda_gpu_executor.cc:981] successful NUMA node read from SysFS had negative value (-1), but there must be at least one NUMA node, so returning NUMA node zero\n",
      "2023-03-21 01:13:19.813843: I tensorflow/core/common_runtime/gpu/gpu_device.cc:1613] Created device /job:localhost/replica:0/task:0/device:GPU:0 with 5655 MB memory:  -> device: 0, name: NVIDIA GeForce RTX 3060 Ti, pci bus id: 0000:01:00.0, compute capability: 8.6\n"
     ]
    },
    {
     "name": "stdout",
     "output_type": "stream",
     "text": [
      "WARNING:tensorflow:From /home/thulio/miniconda3/envs/vignoli/lib/python3.10/site-packages/tensorflow/python/autograph/pyct/static_analysis/liveness.py:83: Analyzer.lamba_check (from tensorflow.python.autograph.pyct.static_analysis.liveness) is deprecated and will be removed after 2023-09-23.\n",
      "Instructions for updating:\n",
      "Lambda fuctions will be no more assumed to be used in the statement where they are used, or at least in the same block. https://github.com/tensorflow/tensorflow/issues/56089\n"
     ]
    },
    {
     "name": "stderr",
     "output_type": "stream",
     "text": [
      "WARNING:tensorflow:From /home/thulio/miniconda3/envs/vignoli/lib/python3.10/site-packages/tensorflow/python/autograph/pyct/static_analysis/liveness.py:83: Analyzer.lamba_check (from tensorflow.python.autograph.pyct.static_analysis.liveness) is deprecated and will be removed after 2023-09-23.\n",
      "Instructions for updating:\n",
      "Lambda fuctions will be no more assumed to be used in the statement where they are used, or at least in the same block. https://github.com/tensorflow/tensorflow/issues/56089\n"
     ]
    },
    {
     "name": "stdout",
     "output_type": "stream",
     "text": [
      "Epoch 1/20\n"
     ]
    },
    {
     "name": "stderr",
     "output_type": "stream",
     "text": [
      "2023-03-21 01:13:44.221854: I tensorflow/compiler/xla/stream_executor/cuda/cuda_blas.cc:630] TensorFloat-32 will be used for the matrix multiplication. This will only be logged once.\n",
      "2023-03-21 01:13:44.244109: I tensorflow/compiler/xla/service/service.cc:173] XLA service 0x7f523a018d60 initialized for platform CUDA (this does not guarantee that XLA will be used). Devices:\n",
      "2023-03-21 01:13:44.244127: I tensorflow/compiler/xla/service/service.cc:181]   StreamExecutor device (0): NVIDIA GeForce RTX 3060 Ti, Compute Capability 8.6\n",
      "2023-03-21 01:13:44.247524: I tensorflow/compiler/mlir/tensorflow/utils/dump_mlir_util.cc:268] disabling MLIR crash reproducer, set env var `MLIR_CRASH_REPRODUCER_DIRECTORY` to enable.\n",
      "2023-03-21 01:13:44.341249: I tensorflow/compiler/jit/xla_compilation_cache.cc:477] Compiled cluster using XLA!  This line is logged at most once for the lifetime of the process.\n"
     ]
    },
    {
     "name": "stdout",
     "output_type": "stream",
     "text": [
      "35/35 [==============================] - 90s 1s/step - loss: 1.7117 - categorical_accuracy: 0.4222 - val_loss: 1.5936 - val_categorical_accuracy: 0.6966\n",
      "Epoch 2/20\n",
      "35/35 [==============================] - 20s 569ms/step - loss: 1.4879 - categorical_accuracy: 0.7051 - val_loss: 1.3510 - val_categorical_accuracy: 0.7521\n",
      "Epoch 3/20\n",
      "35/35 [==============================] - 15s 435ms/step - loss: 1.2549 - categorical_accuracy: 0.7647 - val_loss: 1.1705 - val_categorical_accuracy: 0.7949\n",
      "Epoch 4/20\n",
      "35/35 [==============================] - 11s 313ms/step - loss: 1.0696 - categorical_accuracy: 0.8269 - val_loss: 1.0370 - val_categorical_accuracy: 0.8120\n",
      "Epoch 5/20\n",
      "35/35 [==============================] - 11s 315ms/step - loss: 0.9340 - categorical_accuracy: 0.8571 - val_loss: 0.9346 - val_categorical_accuracy: 0.8162\n",
      "Epoch 6/20\n",
      "35/35 [==============================] - 9s 264ms/step - loss: 0.8047 - categorical_accuracy: 0.8919 - val_loss: 0.8430 - val_categorical_accuracy: 0.8248\n",
      "Epoch 7/20\n",
      "35/35 [==============================] - 6s 179ms/step - loss: 0.6960 - categorical_accuracy: 0.9194 - val_loss: 0.7647 - val_categorical_accuracy: 0.8376\n",
      "Epoch 8/20\n",
      "35/35 [==============================] - 6s 178ms/step - loss: 0.5889 - categorical_accuracy: 0.9405 - val_loss: 0.7100 - val_categorical_accuracy: 0.8462\n",
      "Epoch 9/20\n",
      "35/35 [==============================] - 4s 130ms/step - loss: 0.5027 - categorical_accuracy: 0.9588 - val_loss: 0.6709 - val_categorical_accuracy: 0.8376\n",
      "Epoch 10/20\n",
      "35/35 [==============================] - 5s 135ms/step - loss: 0.4251 - categorical_accuracy: 0.9707 - val_loss: 0.6263 - val_categorical_accuracy: 0.8419\n",
      "Epoch 11/20\n",
      "35/35 [==============================] - 4s 108ms/step - loss: 0.3537 - categorical_accuracy: 0.9780 - val_loss: 0.6195 - val_categorical_accuracy: 0.8419\n",
      "Epoch 12/20\n",
      "35/35 [==============================] - 3s 90ms/step - loss: 0.3027 - categorical_accuracy: 0.9844 - val_loss: 0.5807 - val_categorical_accuracy: 0.8419\n",
      "Epoch 13/20\n",
      "35/35 [==============================] - 4s 112ms/step - loss: 0.2684 - categorical_accuracy: 0.9853 - val_loss: 0.6270 - val_categorical_accuracy: 0.8462\n",
      "Epoch 14/20\n",
      "35/35 [==============================] - 3s 92ms/step - loss: 0.2380 - categorical_accuracy: 0.9890 - val_loss: 0.5517 - val_categorical_accuracy: 0.8462\n",
      "Epoch 15/20\n",
      "35/35 [==============================] - 4s 111ms/step - loss: 0.1946 - categorical_accuracy: 0.9936 - val_loss: 0.5757 - val_categorical_accuracy: 0.8462\n",
      "Epoch 16/20\n",
      "35/35 [==============================] - 5s 147ms/step - loss: 0.1715 - categorical_accuracy: 0.9945 - val_loss: 0.5535 - val_categorical_accuracy: 0.8504\n",
      "Epoch 17/20\n",
      "35/35 [==============================] - 5s 150ms/step - loss: 0.1551 - categorical_accuracy: 0.9945 - val_loss: 0.5390 - val_categorical_accuracy: 0.8504\n",
      "Epoch 18/20\n",
      "35/35 [==============================] - 3s 95ms/step - loss: 0.1329 - categorical_accuracy: 0.9954 - val_loss: 0.5269 - val_categorical_accuracy: 0.8547\n",
      "Epoch 19/20\n",
      "35/35 [==============================] - 3s 90ms/step - loss: 0.1169 - categorical_accuracy: 0.9982 - val_loss: 0.5620 - val_categorical_accuracy: 0.8590\n",
      "Epoch 20/20\n",
      "35/35 [==============================] - 3s 94ms/step - loss: 0.1078 - categorical_accuracy: 0.9982 - val_loss: 0.5390 - val_categorical_accuracy: 0.8462\n"
     ]
    }
   ],
   "source": [
    "# train a model\n",
    "model, history = fit_keras(x_train=x_train,\n",
    "                           y_train=y_train,\n",
    "                           x_val=x_val,\n",
    "                           y_val=y_val,\n",
    "                           classes=np.unique(y),\n",
    "                           model_type=model_type,\n",
    "                           hidden_neurons=hidden_neurons,\n",
    "                           epochs=epochs)"
   ]
  },
  {
   "cell_type": "code",
   "execution_count": 39,
   "metadata": {},
   "outputs": [
    {
     "data": {
      "image/png": "[encoded data removed]",
      "text/plain": [
       "<Figure size 1300x500 with 2 Axes>"
      ]
     },
     "metadata": {},
     "output_type": "display_data"
    }
   ],
   "source": [
    "fig, (ax_loss, ax_acc) = plt.subplots(1, 2, figsize=(13, 5))\n",
    "\n",
    "ax_loss.plot(history.history['loss'])\n",
    "ax_loss.plot(history.history['val_loss'])\n",
    "ax_loss.set_title('Model Loss')\n",
    "ax_loss.set_xlabel('Epoch')\n",
    "ax_loss.set_ylabel('Loss')\n",
    "ax_loss.legend(['train', 'val'])\n",
    "ax_loss.grid()\n",
    "\n",
    "ax_acc.plot(history.history['categorical_accuracy'])\n",
    "ax_acc.plot(history.history['val_categorical_accuracy'])\n",
    "ax_acc.set_title('Model Accuracy')\n",
    "ax_acc.set_xlabel('Epoch')\n",
    "ax_acc.set_ylabel('Categorical Accuracy')\n",
    "ax_acc.legend(['train', 'val'])\n",
    "ax_acc.grid()"
   ]
  },
  {
   "cell_type": "code",
   "execution_count": 40,
   "metadata": {},
   "outputs": [
    {
     "name": "stdout",
     "output_type": "stream",
     "text": [
      "35/35 [==============================] - 1s 16ms/step - loss: 0.0831 - categorical_accuracy: 0.9982\n"
     ]
    },
    {
     "data": {
      "text/plain": [
       "0.9981684684753418"
      ]
     },
     "execution_count": 40,
     "metadata": {},
     "output_type": "execute_result"
    }
   ],
   "source": [
    "# get train accuracy\n",
    "train_loss, train_acc = model.evaluate(x_train, y_train, batch_size=32)\n",
    "train_acc"
   ]
  },
  {
   "cell_type": "code",
   "execution_count": 41,
   "metadata": {},
   "outputs": [
    {
     "name": "stdout",
     "output_type": "stream",
     "text": [
      "8/8 [==============================] - 0s 14ms/step - loss: 0.5390 - categorical_accuracy: 0.8462\n"
     ]
    },
    {
     "data": {
      "text/plain": [
       "0.8461538553237915"
      ]
     },
     "execution_count": 41,
     "metadata": {},
     "output_type": "execute_result"
    }
   ],
   "source": [
    "# get val accuracy\n",
    "val_loss, val_acc = model.evaluate(x_val, y_val, batch_size=32)\n",
    "val_acc"
   ]
  },
  {
   "cell_type": "code",
   "execution_count": 42,
   "metadata": {},
   "outputs": [
    {
     "name": "stdout",
     "output_type": "stream",
     "text": [
      "8/8 [==============================] - 0s 17ms/step - loss: 0.6008 - categorical_accuracy: 0.7949\n"
     ]
    },
    {
     "data": {
      "text/plain": [
       "0.7948718070983887"
      ]
     },
     "execution_count": 42,
     "metadata": {},
     "output_type": "execute_result"
    }
   ],
   "source": [
    "# get test accuracy\n",
    "test_loss, test_acc = model.evaluate(x_test, y_test, batch_size=32)\n",
    "test_acc"
   ]
  },
  {
   "cell_type": "code",
   "execution_count": 23,
   "metadata": {},
   "outputs": [
    {
     "name": "stdout",
     "output_type": "stream",
     "text": [
      "68.96 · 10^6\n"
     ]
    }
   ],
   "source": [
    "p = model.count_params()\n",
    "print(f'{p/1e6:.2f} · 10^6')"
   ]
  },
  {
   "cell_type": "code",
   "execution_count": 43,
   "metadata": {},
   "outputs": [
    {
     "data": {
      "text/html": [
       "<div>\n",
       "<style scoped>\n",
       "    .dataframe tbody tr th:only-of-type {\n",
       "        vertical-align: middle;\n",
       "    }\n",
       "\n",
       "    .dataframe tbody tr th {\n",
       "        vertical-align: top;\n",
       "    }\n",
       "\n",
       "    .dataframe thead th {\n",
       "        text-align: right;\n",
       "    }\n",
       "</style>\n",
       "<table border=\"1\" class=\"dataframe\">\n",
       "  <thead>\n",
       "    <tr style=\"text-align: right;\">\n",
       "      <th></th>\n",
       "      <th>acc</th>\n",
       "    </tr>\n",
       "  </thead>\n",
       "  <tbody>\n",
       "    <tr>\n",
       "      <th>train</th>\n",
       "      <td>0.998168</td>\n",
       "    </tr>\n",
       "    <tr>\n",
       "      <th>val</th>\n",
       "      <td>0.846154</td>\n",
       "    </tr>\n",
       "    <tr>\n",
       "      <th>test</th>\n",
       "      <td>0.794872</td>\n",
       "    </tr>\n",
       "  </tbody>\n",
       "</table>\n",
       "</div>"
      ],
      "text/plain": [
       "            acc\n",
       "train  0.998168\n",
       "val    0.846154\n",
       "test   0.794872"
      ]
     },
     "execution_count": 43,
     "metadata": {},
     "output_type": "execute_result"
    }
   ],
   "source": [
    "# put accuracy results on a table\n",
    "df_acc = pd.DataFrame({'train': [train_acc], 'val': [val_acc], 'test': [test_acc]}, index=['acc']).T\n",
    "df_acc"
   ]
  },
  {
   "cell_type": "code",
   "execution_count": 44,
   "metadata": {},
   "outputs": [
    {
     "name": "stdout",
     "output_type": "stream",
     "text": [
      "|       |      0 |\n",
      "|:------|-------:|\n",
      "| train | 0.9982 |\n",
      "| val   | 0.8462 |\n",
      "| test  | 0.7949 |\n"
     ]
    }
   ],
   "source": [
    "# print table\n",
    "print(df_acc.apply(lambda r: f'{r[\"acc\"]:.4f}', axis=1).to_markdown())"
   ]
  },
  {
   "cell_type": "code",
   "execution_count": 26,
   "metadata": {},
   "outputs": [],
   "source": [
    "# save model\n",
    "model.save('models/trained_model.h5')"
   ]
  },
  {
   "cell_type": "code",
   "execution_count": 27,
   "metadata": {},
   "outputs": [
    {
     "name": "stdout",
     "output_type": "stream",
     "text": [
      "8/8 [==============================] - 1s 15ms/step\n"
     ]
    },
    {
     "data": {
      "text/plain": [
       "<sklearn.metrics._plot.confusion_matrix.ConfusionMatrixDisplay at 0x7f52cc332410>"
      ]
     },
     "execution_count": 27,
     "metadata": {},
     "output_type": "execute_result"
    },
    {
     "data": {
      "image/png": "[encoded data removed]",
      "text/plain": [
       "<Figure size 640x480 with 2 Axes>"
      ]
     },
     "metadata": {},
     "output_type": "display_data"
    }
   ],
   "source": [
    "# confusion matrix\n",
    "y_true = label_binarizer.inverse_transform(y_test)\n",
    "y_pred = label_binarizer.inverse_transform(model.predict(x_test))\n",
    "ConfusionMatrixDisplay.from_predictions(y_true, y_pred, normalize='all', xticks_rotation=30)"
   ]
  },
  {
   "cell_type": "code",
   "execution_count": 28,
   "metadata": {},
   "outputs": [
    {
     "name": "stdout",
     "output_type": "stream",
     "text": [
      "1/1 [==============================] - 0s 20ms/step\n"
     ]
    },
    {
     "data": {
      "text/plain": [
       "array(['renewable energy', 'waste management'], dtype='<U16')"
      ]
     },
     "execution_count": 28,
     "metadata": {},
     "output_type": "execute_result"
    }
   ],
   "source": [
    "label_binarizer.inverse_transform(model.predict(np.array([\n",
    "    'solar wind farm on the netherlands creating sustainable energy for a small town',\n",
    "    'sistema de tratamento de esgoto em torno da periferia'\n",
    "])))"
   ]
  }
 ],
 "metadata": {
  "kernelspec": {
   "display_name": "vignoli",
   "language": "python",
   "name": "python3"
  },
  "language_info": {
   "codemirror_mode": {
    "name": "ipython",
    "version": 3
   },
   "file_extension": ".py",
   "mimetype": "text/x-python",
   "name": "python",
   "nbconvert_exporter": "python",
   "pygments_lexer": "ipython3",
   "version": "3.10.9"
  },
  "orig_nbformat": 4,
  "vscode": {
   "interpreter": {
    "hash": "1257ee0ebd65c7b37e80f73fc04166e1339345524d044862985f662e63191f72"
   }
  }
 },
 "nbformat": 4,
 "nbformat_minor": 2
}

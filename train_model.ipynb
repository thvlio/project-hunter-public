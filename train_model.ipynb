{
 "cells": [
  {
   "cell_type": "code",
   "execution_count": 1,
   "metadata": {},
   "outputs": [],
   "source": [
    "import multiprocessing as mp\n",
    "import os\n",
    "import shutil\n",
    "import time\n",
    "\n",
    "import numpy as np\n",
    "import pandas as pd\n",
    "\n",
    "from sklearn.model_selection import StratifiedKFold, train_test_split\n",
    "from sklearn.preprocessing import LabelBinarizer\n",
    "from tqdm import tqdm"
   ]
  },
  {
   "cell_type": "code",
   "execution_count": 2,
   "metadata": {},
   "outputs": [],
   "source": [
    "# supress tensorflow warnings and info\n",
    "os.environ['TF_CPP_MIN_LOG_LEVEL'] = '2'"
   ]
  },
  {
   "cell_type": "code",
   "execution_count": 3,
   "metadata": {},
   "outputs": [],
   "source": [
    "import tensorflow as tf\n",
    "\n",
    "from tensorflow.python.util import deprecation\n",
    "deprecation._PRINT_DEPRECATION_WARNINGS = False\n",
    "\n",
    "import tensorflow_hub as hub\n",
    "\n",
    "physical_devices = tf.config.list_physical_devices('GPU')\n",
    "tf.config.experimental.set_memory_growth(physical_devices[0], True)"
   ]
  },
  {
   "cell_type": "code",
   "execution_count": 4,
   "metadata": {},
   "outputs": [],
   "source": [
    "# enables tqdm for pandas\n",
    "tqdm.pandas()"
   ]
  },
  {
   "cell_type": "code",
   "execution_count": 5,
   "metadata": {},
   "outputs": [
    {
     "data": {
      "text/html": [
       "<div>\n",
       "<style scoped>\n",
       "    .dataframe tbody tr th:only-of-type {\n",
       "        vertical-align: middle;\n",
       "    }\n",
       "\n",
       "    .dataframe tbody tr th {\n",
       "        vertical-align: top;\n",
       "    }\n",
       "\n",
       "    .dataframe thead th {\n",
       "        text-align: right;\n",
       "    }\n",
       "</style>\n",
       "<table border=\"1\" class=\"dataframe\">\n",
       "  <thead>\n",
       "    <tr style=\"text-align: right;\">\n",
       "      <th></th>\n",
       "      <th>area</th>\n",
       "      <th>title+desc</th>\n",
       "    </tr>\n",
       "  </thead>\n",
       "  <tbody>\n",
       "    <tr>\n",
       "      <th>0</th>\n",
       "      <td>energy efficiency (including public lighting)</td>\n",
       "      <td>intensity control of led light points for high...</td>\n",
       "    </tr>\n",
       "    <tr>\n",
       "      <th>1</th>\n",
       "      <td>waste management (including waste recycling)</td>\n",
       "      <td>installation of tire shredding plant. as a per...</td>\n",
       "    </tr>\n",
       "    <tr>\n",
       "      <th>2</th>\n",
       "      <td>transport</td>\n",
       "      <td>environmental monitoring and control of new an...</td>\n",
       "    </tr>\n",
       "    <tr>\n",
       "      <th>3</th>\n",
       "      <td>waste management (including waste recycling)</td>\n",
       "      <td>strengthening inclusive recycling program. thi...</td>\n",
       "    </tr>\n",
       "    <tr>\n",
       "      <th>4</th>\n",
       "      <td>waste management (including waste recycling)</td>\n",
       "      <td>waste to energy project for blantyre city. reh...</td>\n",
       "    </tr>\n",
       "    <tr>\n",
       "      <th>...</th>\n",
       "      <td>...</td>\n",
       "      <td>...</td>\n",
       "    </tr>\n",
       "    <tr>\n",
       "      <th>1300</th>\n",
       "      <td>energy efficiency (including public lighting)</td>\n",
       "      <td>decarbonisation of local authority maintained ...</td>\n",
       "    </tr>\n",
       "    <tr>\n",
       "      <th>1301</th>\n",
       "      <td>buildings</td>\n",
       "      <td>charlotte &amp; william bloomberg public library. ...</td>\n",
       "    </tr>\n",
       "    <tr>\n",
       "      <th>1302</th>\n",
       "      <td>energy efficiency (including public lighting)</td>\n",
       "      <td>bloomington green home improvement program. th...</td>\n",
       "    </tr>\n",
       "    <tr>\n",
       "      <th>1303</th>\n",
       "      <td>water management</td>\n",
       "      <td>greater amman municipality (gam) - saqef al se...</td>\n",
       "    </tr>\n",
       "    <tr>\n",
       "      <th>1304</th>\n",
       "      <td>water management</td>\n",
       "      <td>local water strategy. local tool for managing ...</td>\n",
       "    </tr>\n",
       "  </tbody>\n",
       "</table>\n",
       "<p>1305 rows × 2 columns</p>\n",
       "</div>"
      ],
      "text/plain": [
       "                                               area  \\\n",
       "0     energy efficiency (including public lighting)   \n",
       "1      waste management (including waste recycling)   \n",
       "2                                         transport   \n",
       "3      waste management (including waste recycling)   \n",
       "4      waste management (including waste recycling)   \n",
       "...                                             ...   \n",
       "1300  energy efficiency (including public lighting)   \n",
       "1301                                      buildings   \n",
       "1302  energy efficiency (including public lighting)   \n",
       "1303                               water management   \n",
       "1304                               water management   \n",
       "\n",
       "                                             title+desc  \n",
       "0     intensity control of led light points for high...  \n",
       "1     installation of tire shredding plant. as a per...  \n",
       "2     environmental monitoring and control of new an...  \n",
       "3     strengthening inclusive recycling program. thi...  \n",
       "4     waste to energy project for blantyre city. reh...  \n",
       "...                                                 ...  \n",
       "1300  decarbonisation of local authority maintained ...  \n",
       "1301  charlotte & william bloomberg public library. ...  \n",
       "1302  bloomington green home improvement program. th...  \n",
       "1303  greater amman municipality (gam) - saqef al se...  \n",
       "1304  local water strategy. local tool for managing ...  \n",
       "\n",
       "[1305 rows x 2 columns]"
      ]
     },
     "execution_count": 5,
     "metadata": {},
     "output_type": "execute_result"
    }
   ],
   "source": [
    "# load cdp dataset csv as dataframe\n",
    "df_cdp = pd.read_csv('csvs/cdp_final.csv', sep=',')\n",
    "df_cdp"
   ]
  },
  {
   "cell_type": "code",
   "execution_count": 6,
   "metadata": {},
   "outputs": [
    {
     "data": {
      "text/html": [
       "<div>\n",
       "<style scoped>\n",
       "    .dataframe tbody tr th:only-of-type {\n",
       "        vertical-align: middle;\n",
       "    }\n",
       "\n",
       "    .dataframe tbody tr th {\n",
       "        vertical-align: top;\n",
       "    }\n",
       "\n",
       "    .dataframe thead th {\n",
       "        text-align: right;\n",
       "    }\n",
       "</style>\n",
       "<table border=\"1\" class=\"dataframe\">\n",
       "  <thead>\n",
       "    <tr style=\"text-align: right;\">\n",
       "      <th></th>\n",
       "      <th>area</th>\n",
       "      <th>title+desc</th>\n",
       "    </tr>\n",
       "  </thead>\n",
       "  <tbody>\n",
       "    <tr>\n",
       "      <th>0</th>\n",
       "      <td>water management</td>\n",
       "      <td>arroyo medrano restoration in parque saavedra....</td>\n",
       "    </tr>\n",
       "    <tr>\n",
       "      <th>1</th>\n",
       "      <td>water management</td>\n",
       "      <td>cildañez stream reservoir activation. the poss...</td>\n",
       "    </tr>\n",
       "    <tr>\n",
       "      <th>2</th>\n",
       "      <td>water management</td>\n",
       "      <td>water interpretation center school visits to a...</td>\n",
       "    </tr>\n",
       "    <tr>\n",
       "      <th>3</th>\n",
       "      <td>water management</td>\n",
       "      <td>hydraulic adaptation plan to climate change. p...</td>\n",
       "    </tr>\n",
       "    <tr>\n",
       "      <th>4</th>\n",
       "      <td>transport</td>\n",
       "      <td>expansion of the bike path network. the work c...</td>\n",
       "    </tr>\n",
       "    <tr>\n",
       "      <th>...</th>\n",
       "      <td>...</td>\n",
       "      <td>...</td>\n",
       "    </tr>\n",
       "    <tr>\n",
       "      <th>485</th>\n",
       "      <td>outdoor lighting</td>\n",
       "      <td>led lighting. the purpose of changing the ligh...</td>\n",
       "    </tr>\n",
       "    <tr>\n",
       "      <th>486</th>\n",
       "      <td>waste management</td>\n",
       "      <td>implementation of the sanitary landfill in the...</td>\n",
       "    </tr>\n",
       "    <tr>\n",
       "      <th>487</th>\n",
       "      <td>waste recycling</td>\n",
       "      <td>implementation of selective collection in the ...</td>\n",
       "    </tr>\n",
       "    <tr>\n",
       "      <th>488</th>\n",
       "      <td>water management</td>\n",
       "      <td>protection and restoration of springs in the s...</td>\n",
       "    </tr>\n",
       "    <tr>\n",
       "      <th>489</th>\n",
       "      <td>outdoor lighting</td>\n",
       "      <td>institutional cooperation agreement between th...</td>\n",
       "    </tr>\n",
       "  </tbody>\n",
       "</table>\n",
       "<p>490 rows × 2 columns</p>\n",
       "</div>"
      ],
      "text/plain": [
       "                 area                                         title+desc\n",
       "0    water management  arroyo medrano restoration in parque saavedra....\n",
       "1    water management  cildañez stream reservoir activation. the poss...\n",
       "2    water management  water interpretation center school visits to a...\n",
       "3    water management  hydraulic adaptation plan to climate change. p...\n",
       "4           transport  expansion of the bike path network. the work c...\n",
       "..                ...                                                ...\n",
       "485  outdoor lighting  led lighting. the purpose of changing the ligh...\n",
       "486  waste management  implementation of the sanitary landfill in the...\n",
       "487   waste recycling  implementation of selective collection in the ...\n",
       "488  water management  protection and restoration of springs in the s...\n",
       "489  outdoor lighting  institutional cooperation agreement between th...\n",
       "\n",
       "[490 rows x 2 columns]"
      ]
     },
     "execution_count": 6,
     "metadata": {},
     "output_type": "execute_result"
    }
   ],
   "source": [
    "# load es dataset csv as dataframe\n",
    "df_es = pd.read_csv('csvs/es_final.csv', sep=',')\n",
    "df_es"
   ]
  },
  {
   "cell_type": "code",
   "execution_count": 7,
   "metadata": {},
   "outputs": [
    {
     "data": {
      "text/html": [
       "<div>\n",
       "<style scoped>\n",
       "    .dataframe tbody tr th:only-of-type {\n",
       "        vertical-align: middle;\n",
       "    }\n",
       "\n",
       "    .dataframe tbody tr th {\n",
       "        vertical-align: top;\n",
       "    }\n",
       "\n",
       "    .dataframe thead th {\n",
       "        text-align: right;\n",
       "    }\n",
       "</style>\n",
       "<table border=\"1\" class=\"dataframe\">\n",
       "  <thead>\n",
       "    <tr style=\"text-align: right;\">\n",
       "      <th></th>\n",
       "      <th>area</th>\n",
       "      <th>title+desc</th>\n",
       "    </tr>\n",
       "  </thead>\n",
       "  <tbody>\n",
       "    <tr>\n",
       "      <th>0</th>\n",
       "      <td>energy efficiency (including public lighting)</td>\n",
       "      <td>intensity control of led light points for high...</td>\n",
       "    </tr>\n",
       "    <tr>\n",
       "      <th>1</th>\n",
       "      <td>waste management (including waste recycling)</td>\n",
       "      <td>installation of tire shredding plant. as a per...</td>\n",
       "    </tr>\n",
       "    <tr>\n",
       "      <th>2</th>\n",
       "      <td>transport</td>\n",
       "      <td>environmental monitoring and control of new an...</td>\n",
       "    </tr>\n",
       "    <tr>\n",
       "      <th>3</th>\n",
       "      <td>waste management (including waste recycling)</td>\n",
       "      <td>strengthening inclusive recycling program. thi...</td>\n",
       "    </tr>\n",
       "    <tr>\n",
       "      <th>4</th>\n",
       "      <td>waste management (including waste recycling)</td>\n",
       "      <td>waste to energy project for blantyre city. reh...</td>\n",
       "    </tr>\n",
       "    <tr>\n",
       "      <th>...</th>\n",
       "      <td>...</td>\n",
       "      <td>...</td>\n",
       "    </tr>\n",
       "    <tr>\n",
       "      <th>485</th>\n",
       "      <td>outdoor lighting</td>\n",
       "      <td>led lighting. the purpose of changing the ligh...</td>\n",
       "    </tr>\n",
       "    <tr>\n",
       "      <th>486</th>\n",
       "      <td>waste management</td>\n",
       "      <td>implementation of the sanitary landfill in the...</td>\n",
       "    </tr>\n",
       "    <tr>\n",
       "      <th>487</th>\n",
       "      <td>waste recycling</td>\n",
       "      <td>implementation of selective collection in the ...</td>\n",
       "    </tr>\n",
       "    <tr>\n",
       "      <th>488</th>\n",
       "      <td>water management</td>\n",
       "      <td>protection and restoration of springs in the s...</td>\n",
       "    </tr>\n",
       "    <tr>\n",
       "      <th>489</th>\n",
       "      <td>outdoor lighting</td>\n",
       "      <td>institutional cooperation agreement between th...</td>\n",
       "    </tr>\n",
       "  </tbody>\n",
       "</table>\n",
       "<p>1795 rows × 2 columns</p>\n",
       "</div>"
      ],
      "text/plain": [
       "                                              area  \\\n",
       "0    energy efficiency (including public lighting)   \n",
       "1     waste management (including waste recycling)   \n",
       "2                                        transport   \n",
       "3     waste management (including waste recycling)   \n",
       "4     waste management (including waste recycling)   \n",
       "..                                             ...   \n",
       "485                               outdoor lighting   \n",
       "486                               waste management   \n",
       "487                                waste recycling   \n",
       "488                               water management   \n",
       "489                               outdoor lighting   \n",
       "\n",
       "                                            title+desc  \n",
       "0    intensity control of led light points for high...  \n",
       "1    installation of tire shredding plant. as a per...  \n",
       "2    environmental monitoring and control of new an...  \n",
       "3    strengthening inclusive recycling program. thi...  \n",
       "4    waste to energy project for blantyre city. reh...  \n",
       "..                                                 ...  \n",
       "485  led lighting. the purpose of changing the ligh...  \n",
       "486  implementation of the sanitary landfill in the...  \n",
       "487  implementation of selective collection in the ...  \n",
       "488  protection and restoration of springs in the s...  \n",
       "489  institutional cooperation agreement between th...  \n",
       "\n",
       "[1795 rows x 2 columns]"
      ]
     },
     "execution_count": 7,
     "metadata": {},
     "output_type": "execute_result"
    }
   ],
   "source": [
    "# join two datasets\n",
    "df_joined = pd.concat([df_cdp, df_es], axis=0) \n",
    "df_joined"
   ]
  },
  {
   "cell_type": "code",
   "execution_count": 8,
   "metadata": {},
   "outputs": [
    {
     "name": "stdout",
     "output_type": "stream",
     "text": [
      "| area                                          |   sample_count |\n",
      "|:----------------------------------------------|---------------:|\n",
      "| transport                                     |            347 |\n",
      "| water management                              |            269 |\n",
      "| renewable energy                              |            224 |\n",
      "| waste management (including waste recycling)  |            199 |\n",
      "| energy efficiency (including public lighting) |            178 |\n",
      "| buildings                                     |            177 |\n",
      "| waste management                              |            116 |\n",
      "| public and green spaces                       |             65 |\n",
      "| waste recycling                               |             63 |\n",
      "| energy efficiency / retrofit                  |             50 |\n",
      "| nature-based solutions                        |             50 |\n",
      "| outdoor lighting                              |             25 |\n",
      "| sustainable food consumption/production       |             19 |\n",
      "| land-use                                      |             13 |\n"
     ]
    }
   ],
   "source": [
    "# show sample count for each area (some need to be joined together)\n",
    "print(pd.DataFrame(df_joined.value_counts(subset='area')).rename(columns={0: 'sample_count'}).to_markdown())"
   ]
  },
  {
   "cell_type": "code",
   "execution_count": 9,
   "metadata": {},
   "outputs": [
    {
     "data": {
      "text/html": [
       "<div>\n",
       "<style scoped>\n",
       "    .dataframe tbody tr th:only-of-type {\n",
       "        vertical-align: middle;\n",
       "    }\n",
       "\n",
       "    .dataframe tbody tr th {\n",
       "        vertical-align: top;\n",
       "    }\n",
       "\n",
       "    .dataframe thead th {\n",
       "        text-align: right;\n",
       "    }\n",
       "</style>\n",
       "<table border=\"1\" class=\"dataframe\">\n",
       "  <thead>\n",
       "    <tr style=\"text-align: right;\">\n",
       "      <th></th>\n",
       "      <th>area</th>\n",
       "      <th>title+desc</th>\n",
       "    </tr>\n",
       "  </thead>\n",
       "  <tbody>\n",
       "    <tr>\n",
       "      <th>0</th>\n",
       "      <td>energy effiency</td>\n",
       "      <td>intensity control of led light points for high...</td>\n",
       "    </tr>\n",
       "    <tr>\n",
       "      <th>1</th>\n",
       "      <td>waste management</td>\n",
       "      <td>installation of tire shredding plant. as a per...</td>\n",
       "    </tr>\n",
       "    <tr>\n",
       "      <th>2</th>\n",
       "      <td>transport</td>\n",
       "      <td>environmental monitoring and control of new an...</td>\n",
       "    </tr>\n",
       "    <tr>\n",
       "      <th>3</th>\n",
       "      <td>waste management</td>\n",
       "      <td>strengthening inclusive recycling program. thi...</td>\n",
       "    </tr>\n",
       "    <tr>\n",
       "      <th>4</th>\n",
       "      <td>waste management</td>\n",
       "      <td>waste to energy project for blantyre city. reh...</td>\n",
       "    </tr>\n",
       "    <tr>\n",
       "      <th>...</th>\n",
       "      <td>...</td>\n",
       "      <td>...</td>\n",
       "    </tr>\n",
       "    <tr>\n",
       "      <th>485</th>\n",
       "      <td>outdoor lighting</td>\n",
       "      <td>led lighting. the purpose of changing the ligh...</td>\n",
       "    </tr>\n",
       "    <tr>\n",
       "      <th>486</th>\n",
       "      <td>waste management</td>\n",
       "      <td>implementation of the sanitary landfill in the...</td>\n",
       "    </tr>\n",
       "    <tr>\n",
       "      <th>487</th>\n",
       "      <td>waste recycling</td>\n",
       "      <td>implementation of selective collection in the ...</td>\n",
       "    </tr>\n",
       "    <tr>\n",
       "      <th>488</th>\n",
       "      <td>water management</td>\n",
       "      <td>protection and restoration of springs in the s...</td>\n",
       "    </tr>\n",
       "    <tr>\n",
       "      <th>489</th>\n",
       "      <td>outdoor lighting</td>\n",
       "      <td>institutional cooperation agreement between th...</td>\n",
       "    </tr>\n",
       "  </tbody>\n",
       "</table>\n",
       "<p>1795 rows × 2 columns</p>\n",
       "</div>"
      ],
      "text/plain": [
       "                 area                                         title+desc\n",
       "0     energy effiency  intensity control of led light points for high...\n",
       "1    waste management  installation of tire shredding plant. as a per...\n",
       "2           transport  environmental monitoring and control of new an...\n",
       "3    waste management  strengthening inclusive recycling program. thi...\n",
       "4    waste management  waste to energy project for blantyre city. reh...\n",
       "..                ...                                                ...\n",
       "485  outdoor lighting  led lighting. the purpose of changing the ligh...\n",
       "486  waste management  implementation of the sanitary landfill in the...\n",
       "487   waste recycling  implementation of selective collection in the ...\n",
       "488  water management  protection and restoration of springs in the s...\n",
       "489  outdoor lighting  institutional cooperation agreement between th...\n",
       "\n",
       "[1795 rows x 2 columns]"
      ]
     },
     "execution_count": 9,
     "metadata": {},
     "output_type": "execute_result"
    }
   ],
   "source": [
    "# simplify area names\n",
    "df_corrected = df_joined.copy()\n",
    "\n",
    "area_energy = (df_corrected['area'] == 'energy efficiency / retrofit') | (df_corrected['area'] == 'energy efficiency (including public lighting)')\n",
    "df_corrected.loc[area_energy, 'area'] = 'energy effiency'\n",
    "\n",
    "area_waste = df_corrected['area'] == 'waste management (including waste recycling)'\n",
    "df_corrected.loc[area_waste, 'area'] = 'waste management'\n",
    "\n",
    "df_corrected"
   ]
  },
  {
   "cell_type": "code",
   "execution_count": 10,
   "metadata": {},
   "outputs": [
    {
     "name": "stdout",
     "output_type": "stream",
     "text": [
      "| area                                    |   sample_count |\n",
      "|:----------------------------------------|---------------:|\n",
      "| transport                               |            347 |\n",
      "| waste management                        |            315 |\n",
      "| water management                        |            269 |\n",
      "| energy effiency                         |            228 |\n",
      "| renewable energy                        |            224 |\n",
      "| buildings                               |            177 |\n",
      "| public and green spaces                 |             65 |\n",
      "| waste recycling                         |             63 |\n",
      "| nature-based solutions                  |             50 |\n",
      "| outdoor lighting                        |             25 |\n",
      "| sustainable food consumption/production |             19 |\n",
      "| land-use                                |             13 |\n"
     ]
    }
   ],
   "source": [
    "# show sample count again\n",
    "area_count = pd.DataFrame(df_corrected.value_counts(subset='area')).rename(columns={0: 'sample_count'})\n",
    "print(area_count.to_markdown())"
   ]
  },
  {
   "cell_type": "code",
   "execution_count": 11,
   "metadata": {},
   "outputs": [
    {
     "data": {
      "text/html": [
       "<div>\n",
       "<style scoped>\n",
       "    .dataframe tbody tr th:only-of-type {\n",
       "        vertical-align: middle;\n",
       "    }\n",
       "\n",
       "    .dataframe tbody tr th {\n",
       "        vertical-align: top;\n",
       "    }\n",
       "\n",
       "    .dataframe thead th {\n",
       "        text-align: right;\n",
       "    }\n",
       "</style>\n",
       "<table border=\"1\" class=\"dataframe\">\n",
       "  <thead>\n",
       "    <tr style=\"text-align: right;\">\n",
       "      <th></th>\n",
       "      <th>area</th>\n",
       "      <th>title+desc</th>\n",
       "    </tr>\n",
       "  </thead>\n",
       "  <tbody>\n",
       "    <tr>\n",
       "      <th>0</th>\n",
       "      <td>energy effiency</td>\n",
       "      <td>intensity control of led light points for high...</td>\n",
       "    </tr>\n",
       "    <tr>\n",
       "      <th>1</th>\n",
       "      <td>waste management</td>\n",
       "      <td>installation of tire shredding plant. as a per...</td>\n",
       "    </tr>\n",
       "    <tr>\n",
       "      <th>2</th>\n",
       "      <td>transport</td>\n",
       "      <td>environmental monitoring and control of new an...</td>\n",
       "    </tr>\n",
       "    <tr>\n",
       "      <th>3</th>\n",
       "      <td>waste management</td>\n",
       "      <td>strengthening inclusive recycling program. thi...</td>\n",
       "    </tr>\n",
       "    <tr>\n",
       "      <th>4</th>\n",
       "      <td>waste management</td>\n",
       "      <td>waste to energy project for blantyre city. reh...</td>\n",
       "    </tr>\n",
       "    <tr>\n",
       "      <th>...</th>\n",
       "      <td>...</td>\n",
       "      <td>...</td>\n",
       "    </tr>\n",
       "    <tr>\n",
       "      <th>482</th>\n",
       "      <td>water management</td>\n",
       "      <td>restoration of water basins. it is intended to...</td>\n",
       "    </tr>\n",
       "    <tr>\n",
       "      <th>483</th>\n",
       "      <td>energy effiency</td>\n",
       "      <td>sustainable tourism development program in iga...</td>\n",
       "    </tr>\n",
       "    <tr>\n",
       "      <th>484</th>\n",
       "      <td>water management</td>\n",
       "      <td>water path. the project provides for the holdi...</td>\n",
       "    </tr>\n",
       "    <tr>\n",
       "      <th>486</th>\n",
       "      <td>waste management</td>\n",
       "      <td>implementation of the sanitary landfill in the...</td>\n",
       "    </tr>\n",
       "    <tr>\n",
       "      <th>488</th>\n",
       "      <td>water management</td>\n",
       "      <td>protection and restoration of springs in the s...</td>\n",
       "    </tr>\n",
       "  </tbody>\n",
       "</table>\n",
       "<p>1560 rows × 2 columns</p>\n",
       "</div>"
      ],
      "text/plain": [
       "                 area                                         title+desc\n",
       "0     energy effiency  intensity control of led light points for high...\n",
       "1    waste management  installation of tire shredding plant. as a per...\n",
       "2           transport  environmental monitoring and control of new an...\n",
       "3    waste management  strengthening inclusive recycling program. thi...\n",
       "4    waste management  waste to energy project for blantyre city. reh...\n",
       "..                ...                                                ...\n",
       "482  water management  restoration of water basins. it is intended to...\n",
       "483   energy effiency  sustainable tourism development program in iga...\n",
       "484  water management  water path. the project provides for the holdi...\n",
       "486  waste management  implementation of the sanitary landfill in the...\n",
       "488  water management  protection and restoration of springs in the s...\n",
       "\n",
       "[1560 rows x 2 columns]"
      ]
     },
     "execution_count": 11,
     "metadata": {},
     "output_type": "execute_result"
    }
   ],
   "source": [
    "# remove categories with few samples\n",
    "min_sample_count = 100\n",
    "area_count = area_count.rename({0: 'count'}, axis='columns')\n",
    "areas_to_keep = area_count[area_count > min_sample_count].dropna().index.to_list()\n",
    "area_filter = df_corrected['area'].isin(areas_to_keep)\n",
    "df_dataset = df_corrected[area_filter]\n",
    "df_dataset"
   ]
  },
  {
   "cell_type": "code",
   "execution_count": 12,
   "metadata": {},
   "outputs": [
    {
     "name": "stdout",
     "output_type": "stream",
     "text": [
      "| area             |   sample_count |\n",
      "|:-----------------|---------------:|\n",
      "| transport        |            347 |\n",
      "| waste management |            315 |\n",
      "| water management |            269 |\n",
      "| energy effiency  |            228 |\n",
      "| renewable energy |            224 |\n",
      "| buildings        |            177 |\n"
     ]
    }
   ],
   "source": [
    "# show new sample count\n",
    "print(pd.DataFrame(df_dataset.value_counts(subset='area')).rename(columns={0: 'sample_count'}).to_markdown())"
   ]
  },
  {
   "cell_type": "code",
   "execution_count": 13,
   "metadata": {},
   "outputs": [],
   "source": [
    "# function that implements the model creation, training and deletion\n",
    "def fit_keras(x_train,\n",
    "              y_train,\n",
    "              x_val,\n",
    "              y_val,\n",
    "              classes,\n",
    "              model_type,\n",
    "              hidden_neurons,\n",
    "              epochs):\n",
    "    \n",
    "    # bring pre-trained model from tf hub as a layer\n",
    "    if model_type == 'nnlm128':\n",
    "        model_link = \"https://tfhub.dev/google/nnlm-en-dim128-with-normalization/2\"\n",
    "    elif model_type == 'use':\n",
    "        model_link = \"https://tfhub.dev/google/universal-sentence-encoder/4\"\n",
    "    hub_layer = hub.KerasLayer(model_link, input_shape=[], dtype=tf.string, trainable=True)\n",
    "\n",
    "    # create the model with the parameters given\n",
    "    model = tf.keras.Sequential()\n",
    "    model.add(hub_layer)\n",
    "    if hidden_neurons > 0:\n",
    "        model.add(tf.keras.layers.Dropout(0.2))\n",
    "        model.add(tf.keras.layers.Dense(hidden_neurons, activation='relu'))\n",
    "    model.add(tf.keras.layers.Dropout(0.2))\n",
    "    model.add(tf.keras.layers.Dense(len(classes), activation='softmax'))\n",
    "\n",
    "    # compile the model\n",
    "    model.compile(optimizer='adam',\n",
    "                  loss=tf.losses.CategoricalCrossentropy(),\n",
    "                  metrics=[tf.metrics.CategoricalAccuracy()])\n",
    "\n",
    "    # finally, fit the model on the data given\n",
    "    history = model.fit(x_train,\n",
    "                        y_train,\n",
    "                        epochs=epochs,\n",
    "                        batch_size=32,\n",
    "                        validation_data=[x_val, y_val],\n",
    "                        verbose=1)\n",
    "\n",
    "    # return model\n",
    "    return model"
   ]
  },
  {
   "cell_type": "code",
   "execution_count": 82,
   "metadata": {},
   "outputs": [],
   "source": [
    "# x is input, y is output\n",
    "x = df_dataset['title+desc'].to_numpy()\n",
    "y = df_dataset['area'].to_numpy()\n",
    "\n",
    "# one hot encode the output\n",
    "label_binarizer = LabelBinarizer()\n",
    "y_e = label_binarizer.fit_transform(y)"
   ]
  },
  {
   "cell_type": "code",
   "execution_count": 15,
   "metadata": {},
   "outputs": [],
   "source": [
    "param_sets = [\n",
    "    # model_type, hidden_neurons, epochs\n",
    "    ('title+desc', 'nnlm128', 0, 10),\n",
    "    # ('title+desc', 'nnlm128', 32, 10),\n",
    "    # ('title+desc', 'nnlm128', 64, 10),\n",
    "    # ('title+desc', 'use', 0, 10),\n",
    "    # ('title+desc', 'use', 32, 10),\n",
    "    # ('title+desc', 'use', 64, 10)\n",
    "]"
   ]
  },
  {
   "cell_type": "code",
   "execution_count": 16,
   "metadata": {},
   "outputs": [],
   "source": [
    "# split the dataset into train, test and val\n",
    "x_train, x_valtest, y_train, y_valtest = train_test_split(x, y_e, test_size=0.15, random_state=42)\n",
    "x_val, x_test, y_val, y_test = train_test_split(x_valtest, y_valtest, test_size=0.15, random_state=42)"
   ]
  },
  {
   "cell_type": "code",
   "execution_count": 17,
   "metadata": {},
   "outputs": [],
   "source": [
    "# selecting the parameters\n",
    "input_column, model_type, hidden_neurons, epochs = param_sets[0]"
   ]
  },
  {
   "cell_type": "code",
   "execution_count": 18,
   "metadata": {},
   "outputs": [
    {
     "name": "stdout",
     "output_type": "stream",
     "text": [
      "Epoch 1/10\n",
      "42/42 [==============================] - 7s 131ms/step - loss: 1.6522 - categorical_accuracy: 0.3808 - val_loss: 1.4437 - val_categorical_accuracy: 0.6566\n",
      "Epoch 2/10\n",
      "42/42 [==============================] - 6s 136ms/step - loss: 1.2097 - categorical_accuracy: 0.7526 - val_loss: 1.1443 - val_categorical_accuracy: 0.7677\n",
      "Epoch 3/10\n",
      "42/42 [==============================] - 5s 109ms/step - loss: 0.8566 - categorical_accuracy: 0.8861 - val_loss: 0.9293 - val_categorical_accuracy: 0.7727\n",
      "Epoch 4/10\n",
      "42/42 [==============================] - 5s 115ms/step - loss: 0.5983 - categorical_accuracy: 0.9186 - val_loss: 0.7820 - val_categorical_accuracy: 0.7828\n",
      "Epoch 5/10\n",
      "42/42 [==============================] - 4s 92ms/step - loss: 0.4236 - categorical_accuracy: 0.9472 - val_loss: 0.6963 - val_categorical_accuracy: 0.8081\n",
      "Epoch 6/10\n",
      "42/42 [==============================] - 4s 100ms/step - loss: 0.3044 - categorical_accuracy: 0.9630 - val_loss: 0.6489 - val_categorical_accuracy: 0.8182\n",
      "Epoch 7/10\n",
      "42/42 [==============================] - 4s 92ms/step - loss: 0.2289 - categorical_accuracy: 0.9736 - val_loss: 0.6195 - val_categorical_accuracy: 0.8283\n",
      "Epoch 8/10\n",
      "42/42 [==============================] - 4s 86ms/step - loss: 0.1704 - categorical_accuracy: 0.9857 - val_loss: 0.6029 - val_categorical_accuracy: 0.8283\n",
      "Epoch 9/10\n",
      "42/42 [==============================] - 4s 109ms/step - loss: 0.1302 - categorical_accuracy: 0.9887 - val_loss: 0.5915 - val_categorical_accuracy: 0.8232\n",
      "Epoch 10/10\n",
      "42/42 [==============================] - 3s 73ms/step - loss: 0.1051 - categorical_accuracy: 0.9917 - val_loss: 0.5877 - val_categorical_accuracy: 0.8232\n"
     ]
    }
   ],
   "source": [
    "# train a model\n",
    "model = fit_keras(x_train=x_train,\n",
    "                  y_train=y_train,\n",
    "                  x_val=x_val,\n",
    "                  y_val=y_val,\n",
    "                  classes=np.unique(y),\n",
    "                  model_type=model_type,\n",
    "                  hidden_neurons=hidden_neurons,\n",
    "                  epochs=epochs)"
   ]
  },
  {
   "cell_type": "code",
   "execution_count": 36,
   "metadata": {},
   "outputs": [
    {
     "name": "stdout",
     "output_type": "stream",
     "text": [
      "42/42 [==============================] - 0s 6ms/step - loss: 0.0823 - categorical_accuracy: 0.9955\n"
     ]
    },
    {
     "data": {
      "text/plain": [
       "0.9954751133918762"
      ]
     },
     "execution_count": 36,
     "metadata": {},
     "output_type": "execute_result"
    }
   ],
   "source": [
    "# get train accuracy\n",
    "train_loss, train_acc = model.evaluate(x_train, y_train, batch_size=32)\n",
    "train_acc"
   ]
  },
  {
   "cell_type": "code",
   "execution_count": 37,
   "metadata": {},
   "outputs": [
    {
     "name": "stdout",
     "output_type": "stream",
     "text": [
      "7/7 [==============================] - 0s 6ms/step - loss: 0.5877 - categorical_accuracy: 0.8232\n"
     ]
    },
    {
     "data": {
      "text/plain": [
       "0.8232323527336121"
      ]
     },
     "execution_count": 37,
     "metadata": {},
     "output_type": "execute_result"
    }
   ],
   "source": [
    "# get val accuracy\n",
    "val_loss, val_acc = model.evaluate(x_val, y_val, batch_size=32)\n",
    "val_acc"
   ]
  },
  {
   "cell_type": "code",
   "execution_count": 38,
   "metadata": {},
   "outputs": [
    {
     "name": "stdout",
     "output_type": "stream",
     "text": [
      "2/2 [==============================] - 0s 6ms/step - loss: 0.6300 - categorical_accuracy: 0.7778\n"
     ]
    },
    {
     "data": {
      "text/plain": [
       "0.7777777910232544"
      ]
     },
     "execution_count": 38,
     "metadata": {},
     "output_type": "execute_result"
    }
   ],
   "source": [
    "# get test accuracy\n",
    "test_loss, test_acc = model.evaluate(x_test, y_test, batch_size=32)\n",
    "test_acc"
   ]
  },
  {
   "cell_type": "code",
   "execution_count": 44,
   "metadata": {},
   "outputs": [
    {
     "data": {
      "text/html": [
       "<div>\n",
       "<style scoped>\n",
       "    .dataframe tbody tr th:only-of-type {\n",
       "        vertical-align: middle;\n",
       "    }\n",
       "\n",
       "    .dataframe tbody tr th {\n",
       "        vertical-align: top;\n",
       "    }\n",
       "\n",
       "    .dataframe thead th {\n",
       "        text-align: right;\n",
       "    }\n",
       "</style>\n",
       "<table border=\"1\" class=\"dataframe\">\n",
       "  <thead>\n",
       "    <tr style=\"text-align: right;\">\n",
       "      <th></th>\n",
       "      <th>acc</th>\n",
       "    </tr>\n",
       "  </thead>\n",
       "  <tbody>\n",
       "    <tr>\n",
       "      <th>train</th>\n",
       "      <td>0.995475</td>\n",
       "    </tr>\n",
       "    <tr>\n",
       "      <th>val</th>\n",
       "      <td>0.823232</td>\n",
       "    </tr>\n",
       "    <tr>\n",
       "      <th>test</th>\n",
       "      <td>0.777778</td>\n",
       "    </tr>\n",
       "  </tbody>\n",
       "</table>\n",
       "</div>"
      ],
      "text/plain": [
       "            acc\n",
       "train  0.995475\n",
       "val    0.823232\n",
       "test   0.777778"
      ]
     },
     "execution_count": 44,
     "metadata": {},
     "output_type": "execute_result"
    }
   ],
   "source": [
    "# put accuracy results on a table\n",
    "df_acc = pd.DataFrame({'train': [train_acc], 'val': [val_acc], 'test': [test_acc]}, index=['acc']).T\n",
    "df_acc"
   ]
  },
  {
   "cell_type": "code",
   "execution_count": 56,
   "metadata": {},
   "outputs": [
    {
     "name": "stdout",
     "output_type": "stream",
     "text": [
      "|       |      0 |\n",
      "|:------|-------:|\n",
      "| train | 0.9955 |\n",
      "| val   | 0.8232 |\n",
      "| test  | 0.7778 |\n"
     ]
    }
   ],
   "source": [
    "# print table\n",
    "print(df_acc.apply(lambda r: f'{r[\"acc\"]:.4f}', axis=1).to_markdown())"
   ]
  }
 ],
 "metadata": {
  "kernelspec": {
   "display_name": "vignoli",
   "language": "python",
   "name": "python3"
  },
  "language_info": {
   "codemirror_mode": {
    "name": "ipython",
    "version": 3
   },
   "file_extension": ".py",
   "mimetype": "text/x-python",
   "name": "python",
   "nbconvert_exporter": "python",
   "pygments_lexer": "ipython3",
   "version": "3.10.9"
  },
  "orig_nbformat": 4,
  "vscode": {
   "interpreter": {
    "hash": "1257ee0ebd65c7b37e80f73fc04166e1339345524d044862985f662e63191f72"
   }
  }
 },
 "nbformat": 4,
 "nbformat_minor": 2
}
